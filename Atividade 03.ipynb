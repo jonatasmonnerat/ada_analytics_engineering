{
 "cells": [
  {
   "attachments": {},
   "cell_type": "markdown",
   "id": "ebfbea4e",
   "metadata": {},
   "source": [
    "# Atividade 3\n",
    "\n",
    "Faça tudo via dbt. \n",
    "\n",
    "Envia como resposta:\n",
    "- A query SQL\n",
    "- Comando utilizado via terminal no `dbt`\n",
    "- Um print do resultado no próprio notebook, para isso é necessário criar uma pasta no repositório onde serão armazenadas as imagens, e para inserir no notebook é necessário criar uma célula `markdown` e inserir o seguinte comando: \n",
    "\n",
    "```markdown\n",
    "![Nome da Foto](path/para/imagem)\n",
    "```"
   ]
  },
  {
   "attachments": {},
   "cell_type": "markdown",
   "id": "c0c42967",
   "metadata": {},
   "source": [
    "## 1. Crie uma tabela `orders_by_year` a partir de `orders` que agrupa a quantidade de pedidos por ano, considerando a coluna `order_approved_at`"
   ]
  },
  {
   "attachments": {},
   "cell_type": "markdown",
   "id": "b70c9676",
   "metadata": {},
   "source": [
    "### 1.1 Query:\n",
    "    \n",
    "```sql\n",
    "{{ config(materialized='table') }}\n",
    "\n",
    "SELECT\n",
    "    EXTRACT(YEAR from date(order_approved_at)) AS year, \n",
    "    count(order_id) AS num_orders \n",
    "FROM \n",
    "    `dbt_shop.orders` \n",
    "GROUP BY \n",
    "    1\n",
    "ORDER BY\n",
    "    1\n",
    "```"
   ]
  },
  {
   "attachments": {},
   "cell_type": "markdown",
   "id": "8ac323c3",
   "metadata": {},
   "source": [
    "### 1.2 Terminal: \n",
    "```dbt run --models atividade03.orders_by_year```"
   ]
  },
  {
   "attachments": {},
   "cell_type": "markdown",
   "id": "6c6e76e8",
   "metadata": {},
   "source": [
    "### 1.3 - Print Terminal:\n",
    "![orders_by_year_terminal.png](print_resultados_atividade03/orders_by_year_terminal.png)"
   ]
  },
  {
   "attachments": {},
   "cell_type": "markdown",
   "id": "ff1793b7",
   "metadata": {},
   "source": [
    "### 1.4 No GCP:\n",
    "![orders_by_year_gcp.png](print_resultados_atividade03/orders_by_year_gcp.png)"
   ]
  },
  {
   "attachments": {},
   "cell_type": "markdown",
   "id": "aa520524",
   "metadata": {},
   "source": [
    "## 2. Crie uma `view` que agrega os totais de pedidos por estado. Considere as tabelas _customers_ para obter os estados (coluna _customer_state_) e _orders_ para contabilizar a quantidade de pedidos."
   ]
  },
  {
   "attachments": {},
   "cell_type": "markdown",
   "id": "9cd53419",
   "metadata": {},
   "source": [
    "### 2.1 Query:\n",
    "\n",
    "```sql\n",
    "{{ config(materialized='view') }}\n",
    "\n",
    "SELECT\n",
    "    A.customer_state, \n",
    "    count(B.order_id) AS num_orders \n",
    "FROM \n",
    "    `dbt_shop.customers`  AS A\n",
    "LEFT JOIN\n",
    "    `dbt_shop.orders`     AS B\n",
    "ON\n",
    "    A.customer_id =  B.customer_id\n",
    "GROUP BY \n",
    "    1\n",
    "ORDER BY\n",
    "    1\n",
    "```"
   ]
  },
  {
   "attachments": {},
   "cell_type": "markdown",
   "id": "369f204d",
   "metadata": {},
   "source": [
    "### 2.2 Terminal: \n",
    "```dbt run --models atividade03.orders_by_state```"
   ]
  },
  {
   "attachments": {},
   "cell_type": "markdown",
   "id": "7eae05cb",
   "metadata": {},
   "source": [
    "### 2.3 Print Terminal:\n",
    "![orders_by_state_terminal.png](print_resultados_atividade03/orders_by_state_terminal.png)"
   ]
  },
  {
   "attachments": {},
   "cell_type": "markdown",
   "id": "53f9962b",
   "metadata": {},
   "source": [
    "### 2.4 No GCP:\n",
    "![orders_by_state_gcp.png](print_resultados_atividade03/orders_by_state_gcp.png)"
   ]
  },
  {
   "attachments": {},
   "cell_type": "markdown",
   "id": "54e0e5f1",
   "metadata": {},
   "source": [
    "## 3. De acordo com o resultado do exercício 2 retorne apenas os estados que tem mais de 5000 pedidos, esse número deve ser passado via variável `number_of_orders` do `dbt`."
   ]
  },
  {
   "attachments": {},
   "cell_type": "markdown",
   "id": "6a8ddc1b",
   "metadata": {},
   "source": [
    "### 3.1 Query:\n",
    "\n",
    "```sql\n",
    "{{ config(materialized='view') }}\n",
    "\n",
    "SELECT\n",
    "    *\n",
    "FROM \n",
    "    `dbt-shop-jonatas.dataset_atividade03.orders_by_state`  AS A\n",
    "WHERE \n",
    "     num_orders >= {{ var(\"number_of_orders\") }}\n",
    "ORDER BY\n",
    "    1\n",
    "```"
   ]
  },
  {
   "attachments": {},
   "cell_type": "markdown",
   "id": "83d11a25",
   "metadata": {},
   "source": [
    "### 3.2 Terminal: \n",
    "```dbt run --models atividade03.orders_by_state_5000 --vars \"{'number_of_orders': 5000}\"```"
   ]
  },
  {
   "attachments": {},
   "cell_type": "markdown",
   "id": "6bad8b71",
   "metadata": {},
   "source": [
    "### 3.3 Print Terminal:\n",
    "![orders_by_state_5000_terminal_v2.png](print_resultados_atividade03/orders_by_state_5000_terminal_v2.png)"
   ]
  },
  {
   "cell_type": "markdown",
   "id": "dc096eb3",
   "metadata": {},
   "source": [
    "### 3.4 No GCP:\n",
    "![orders_by_state_5000_gcp.png](print_resultados_atividade03/orders_by_state_5000_gcp.png)"
   ]
  },
  {
   "attachments": {},
   "cell_type": "markdown",
   "id": "9c3ad0cc",
   "metadata": {},
   "source": [
    "## 4. Crie uma `view` chamada `customers_by_region` que utiliza os dados da tabela `customers`. A visão deve realizar uma agregação por região do Brasil (Norte, Nordeste, Sudeste, Centro Oeste e Sul) e contar o número de clientes em cada uma delas."
   ]
  },
  {
   "attachments": {},
   "cell_type": "markdown",
   "id": "77af0f51",
   "metadata": {},
   "source": [
    "### 4.1 Query:\n",
    "\n",
    "```sql\n",
    "{{ config(materialized='view') }}\n",
    "\n",
    "SELECT \n",
    "    CASE WHEN customer_state IN (\"DF\",\"GO\",\"MS\",\"MT\") THEN \"Centro-Oeste\"\n",
    "         WHEN customer_state IN (\"AL\",\"BA\",\"CE\",\"MA\",\"PB\",\"PE\",\"PI\",\"RN\",\"SE\") THEN \"Nordeste\"\n",
    "         WHEN customer_state IN (\"AC\",\"AM\",\"AP\",\"PA\",\"RO\",\"RR\",\"TO\") THEN \"Norte\"\n",
    "         WHEN customer_state IN (\"ES\",\"MG\",\"RJ\",\"SP\") THEN \"Sudeste\"\n",
    "         WHEN customer_state IN (\"PR\",\"RS\",\"SC\") THEN \"Sul\"\n",
    "         ELSE \"Não Identificado\" END AS customer_region,\n",
    "    count(customer_id) as customer_quantity\n",
    "\n",
    "FROM \n",
    "    `dbt_shop.customers`  \n",
    "GROUP BY\n",
    "    1\n",
    "```"
   ]
  },
  {
   "attachments": {},
   "cell_type": "markdown",
   "id": "51135ded",
   "metadata": {},
   "source": [
    "### 4.2 Terminal: \n",
    "```dbt run --models atividade03.customers_by_region```\n"
   ]
  },
  {
   "attachments": {},
   "cell_type": "markdown",
   "id": "50c54dd6",
   "metadata": {},
   "source": [
    "### 4.3 Print Terminal:\n",
    "![customers_by_region_terminal.png](print_resultados_atividade03/customers_by_region_terminal.png)"
   ]
  },
  {
   "attachments": {},
   "cell_type": "markdown",
   "id": "22be8959",
   "metadata": {},
   "source": [
    "### 4.4 No GCP:\n",
    "![customers_by_region_gcp.png](print_resultados_atividade03/customers_by_region_gcp.png)"
   ]
  },
  {
   "attachments": {},
   "cell_type": "markdown",
   "id": "d4c16290",
   "metadata": {},
   "source": [
    "## 5. Crie uma tabela `items_costs` que contenha o preço total de um item (soma do valor do produto com o frete)."
   ]
  },
  {
   "attachments": {},
   "cell_type": "markdown",
   "id": "0369abca",
   "metadata": {},
   "source": [
    "### 5.1 Query:\n",
    "\n",
    "```sql\n",
    "{{ config(materialized='table') }}\n",
    "\n",
    "SELECT\n",
    "    *,\n",
    "    price + freight_value as total_cost\n",
    "FROM \n",
    "    `dbt_shop.items` \n",
    "```"
   ]
  },
  {
   "attachments": {},
   "cell_type": "markdown",
   "id": "ebed66f5",
   "metadata": {},
   "source": [
    "### 5.2 Terminal:\n",
    "```dbt run --models atividade03.items_costs```"
   ]
  },
  {
   "attachments": {},
   "cell_type": "markdown",
   "id": "efeae157",
   "metadata": {},
   "source": [
    "### 5.3 Print Terminal:\n",
    "![items_costs_terminal.png](print_resultados_atividade03/items_costs_terminal.png)"
   ]
  },
  {
   "attachments": {},
   "cell_type": "markdown",
   "id": "7b99a7f6",
   "metadata": {},
   "source": [
    "### 5.4 No GCP:\n",
    "![items_costs_gcp.png](print_resultados_atividade03/items_costs_gcp.png)"
   ]
  },
  {
   "attachments": {},
   "cell_type": "markdown",
   "id": "08cc4c02",
   "metadata": {},
   "source": [
    "## 6. Crie uma `view` com o nome `orders_shipped_costs`, você deve calcular o preço total do pedido somado com o frete, apenas para pedidos enviado (shipped)."
   ]
  },
  {
   "attachments": {},
   "cell_type": "markdown",
   "id": "3cec7bd9",
   "metadata": {},
   "source": [
    "### 6.1 Query:\n",
    "\n",
    "```sql\n",
    "{{ config(materialized='view') }}\n",
    "\n",
    "SELECT\n",
    "    A.order_id,\n",
    "    B.total_cost\n",
    "FROM \n",
    "    `dbt_shop.orders` AS A\n",
    "INNER JOIN\n",
    "  (\n",
    "    SELECT \n",
    "      order_id,\n",
    "      SUM(price + freight_value) AS total_cost\n",
    "    FROM\n",
    "      `dbt_shop.items`\n",
    "    GROUP BY  \n",
    "      1\n",
    "  ) AS B\n",
    "ON\n",
    "  A.order_id = B.order_id AND A.order_status = \"shipped\"\n",
    "```"
   ]
  },
  {
   "attachments": {},
   "cell_type": "markdown",
   "id": "a4e79a7e",
   "metadata": {},
   "source": [
    "### 6.2 Terminal: \n",
    "``dbt run --models atividade03.orders_shipped_costs``"
   ]
  },
  {
   "attachments": {},
   "cell_type": "markdown",
   "id": "631e6615",
   "metadata": {},
   "source": [
    "### 6.3 Print Terminal:\n",
    "![orders_shipped_costs_terminal.png](print_resultados_atividade03/orders_shipped_costs_terminal.png)"
   ]
  },
  {
   "attachments": {},
   "cell_type": "markdown",
   "id": "0dbfd855",
   "metadata": {},
   "source": [
    "### 6.4 No GCP:\n",
    "![orders_shipped_costs_gcp.png](print_resultados_atividade03/orders_shipped_costs_gcp.png)"
   ]
  }
 ],
 "metadata": {
  "kernelspec": {
   "display_name": "Python 3",
   "language": "python",
   "name": "python3"
  },
  "language_info": {
   "codemirror_mode": {
    "name": "ipython",
    "version": 3
   },
   "file_extension": ".py",
   "mimetype": "text/x-python",
   "name": "python",
   "nbconvert_exporter": "python",
   "pygments_lexer": "ipython3",
   "version": "3.10.10"
  }
 },
 "nbformat": 4,
 "nbformat_minor": 5
}
