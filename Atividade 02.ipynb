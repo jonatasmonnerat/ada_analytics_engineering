{
 "cells": [
  {
   "cell_type": "markdown",
   "id": "23138ed9",
   "metadata": {},
   "source": [
    "## Atividade 02"
   ]
  },
  {
   "attachments": {},
   "cell_type": "markdown",
   "id": "45192bd8",
   "metadata": {},
   "source": [
    "# Exercícios"
   ]
  },
  {
   "cell_type": "markdown",
   "id": "cbcef764",
   "metadata": {},
   "source": [
    "Vamos praticar a criação de várias expectativas para um dataset público. \n",
    "Para isso, vamos utilizar o dataset Titanic disponível no Kaggle. \n",
    "Este dataset contém informações sobre os passageiros do navio Titanic, incluindo informações como nome, idade, sexo, classe da cabine e se sobreviveram ou não ao naufrágio."
   ]
  },
  {
   "cell_type": "markdown",
   "id": "2faaaa42",
   "metadata": {},
   "source": [
    "### 1. Importando os dados"
   ]
  },
  {
   "cell_type": "markdown",
   "id": "b834df98",
   "metadata": {},
   "source": [
    "1.1 Crie um objeto DataContext"
   ]
  },
  {
   "cell_type": "code",
   "execution_count": 1,
   "id": "a4e57fed",
   "metadata": {},
   "outputs": [
    {
     "name": "stdout",
     "output_type": "stream",
     "text": [
      "Successfully migrated to FileDataContext!\n"
     ]
    },
    {
     "data": {
      "text/plain": [
       "{\n",
       "  \"anonymous_usage_statistics\": {\n",
       "    \"explicit_url\": false,\n",
       "    \"enabled\": true,\n",
       "    \"explicit_id\": true,\n",
       "    \"data_context_id\": \"5533309f-19ad-44b6-be53-c15b833d6320\",\n",
       "    \"usage_statistics_url\": \"https://stats.greatexpectations.io/great_expectations/v1/usage_statistics\"\n",
       "  },\n",
       "  \"checkpoint_store_name\": \"checkpoint_store\",\n",
       "  \"config_variables_file_path\": \"uncommitted/config_variables.yml\",\n",
       "  \"config_version\": 3.0,\n",
       "  \"data_docs_sites\": {\n",
       "    \"local_site\": {\n",
       "      \"class_name\": \"SiteBuilder\",\n",
       "      \"show_how_to_buttons\": true,\n",
       "      \"store_backend\": {\n",
       "        \"class_name\": \"TupleFilesystemStoreBackend\",\n",
       "        \"base_directory\": \"uncommitted\\\\data_docs\\\\local_site\"\n",
       "      },\n",
       "      \"site_index_builder\": {\n",
       "        \"class_name\": \"DefaultSiteIndexBuilder\"\n",
       "      }\n",
       "    }\n",
       "  },\n",
       "  \"datasources\": {},\n",
       "  \"evaluation_parameter_store_name\": \"evaluation_parameter_store\",\n",
       "  \"expectations_store_name\": \"expectations_store\",\n",
       "  \"include_rendered_content\": {\n",
       "    \"globally\": false,\n",
       "    \"expectation_validation_result\": false,\n",
       "    \"expectation_suite\": false\n",
       "  },\n",
       "  \"plugins_directory\": \"plugins/\",\n",
       "  \"stores\": {\n",
       "    \"expectations_store\": {\n",
       "      \"class_name\": \"ExpectationsStore\",\n",
       "      \"store_backend\": {\n",
       "        \"class_name\": \"TupleFilesystemStoreBackend\",\n",
       "        \"base_directory\": \"expectations/\"\n",
       "      }\n",
       "    },\n",
       "    \"validations_store\": {\n",
       "      \"class_name\": \"ValidationsStore\",\n",
       "      \"store_backend\": {\n",
       "        \"class_name\": \"TupleFilesystemStoreBackend\",\n",
       "        \"base_directory\": \"uncommitted/validations/\"\n",
       "      }\n",
       "    },\n",
       "    \"evaluation_parameter_store\": {\n",
       "      \"class_name\": \"EvaluationParameterStore\"\n",
       "    },\n",
       "    \"checkpoint_store\": {\n",
       "      \"class_name\": \"CheckpointStore\",\n",
       "      \"store_backend\": {\n",
       "        \"class_name\": \"TupleFilesystemStoreBackend\",\n",
       "        \"suppress_store_backend_id\": true,\n",
       "        \"base_directory\": \"checkpoints/\"\n",
       "      }\n",
       "    },\n",
       "    \"profiler_store\": {\n",
       "      \"class_name\": \"ProfilerStore\",\n",
       "      \"store_backend\": {\n",
       "        \"class_name\": \"TupleFilesystemStoreBackend\",\n",
       "        \"suppress_store_backend_id\": true,\n",
       "        \"base_directory\": \"profilers/\"\n",
       "      }\n",
       "    }\n",
       "  },\n",
       "  \"validations_store_name\": \"validations_store\"\n",
       "}"
      ]
     },
     "execution_count": 1,
     "metadata": {},
     "output_type": "execute_result"
    }
   ],
   "source": [
    "import great_expectations as gx\n",
    "\n",
    "context = gx.get_context()\n",
    "\n",
    "context.convert_to_file_context()"
   ]
  },
  {
   "attachments": {},
   "cell_type": "markdown",
   "id": "c76e8eed",
   "metadata": {},
   "source": [
    "1.2 Crie um validator e carregue o dataset Titanic: https://storage.googleapis.com/tf-datasets/titanic/train.csv"
   ]
  },
  {
   "cell_type": "code",
   "execution_count": 2,
   "id": "db661ca3",
   "metadata": {},
   "outputs": [],
   "source": [
    "validator = context.sources.pandas_default.read_csv(\n",
    "    'train.csv'\n",
    ")"
   ]
  },
  {
   "cell_type": "markdown",
   "id": "d5730ec2",
   "metadata": {},
   "source": [
    "### 2. Definindo expectativas"
   ]
  },
  {
   "cell_type": "markdown",
   "id": "f547f924",
   "metadata": {},
   "source": [
    "Agora que temos o dataframe, podemos começar a criar expectativas sobre os dados. "
   ]
  },
  {
   "cell_type": "markdown",
   "id": "ec091cea",
   "metadata": {},
   "source": [
    "2.1 Crie uma expectativa que defina que as colunas do dataframe estão na ordem correta. "
   ]
  },
  {
   "cell_type": "code",
   "execution_count": 14,
   "id": "b3ca039a",
   "metadata": {},
   "outputs": [
    {
     "data": {
      "application/vnd.jupyter.widget-view+json": {
       "model_id": "da88a34a843b4fa6bece2d9f8a219d10",
       "version_major": 2,
       "version_minor": 0
      },
      "text/plain": [
       "Calculating Metrics:   0%|          | 0/2 [00:00<?, ?it/s]"
      ]
     },
     "metadata": {},
     "output_type": "display_data"
    },
    {
     "data": {
      "text/plain": [
       "{\n",
       "  \"result\": {\n",
       "    \"observed_value\": [\n",
       "      \"survived\",\n",
       "      \"sex\",\n",
       "      \"age\",\n",
       "      \"n_siblings_spouses\",\n",
       "      \"parch\",\n",
       "      \"fare\",\n",
       "      \"class\",\n",
       "      \"deck\",\n",
       "      \"embark_town\",\n",
       "      \"alone\"\n",
       "    ],\n",
       "    \"details\": {\n",
       "      \"mismatched\": [\n",
       "        {\n",
       "          \"Expected Column Position\": 0,\n",
       "          \"Expected\": \"age\",\n",
       "          \"Found\": \"survived\"\n",
       "        },\n",
       "        {\n",
       "          \"Expected Column Position\": 1,\n",
       "          \"Expected\": \"alone\",\n",
       "          \"Found\": \"sex\"\n",
       "        },\n",
       "        {\n",
       "          \"Expected Column Position\": 2,\n",
       "          \"Expected\": \"class\",\n",
       "          \"Found\": \"age\"\n",
       "        },\n",
       "        {\n",
       "          \"Expected Column Position\": 3,\n",
       "          \"Expected\": \"deck\",\n",
       "          \"Found\": \"n_siblings_spouses\"\n",
       "        },\n",
       "        {\n",
       "          \"Expected Column Position\": 4,\n",
       "          \"Expected\": \"embark_town\",\n",
       "          \"Found\": \"parch\"\n",
       "        },\n",
       "        {\n",
       "          \"Expected Column Position\": 6,\n",
       "          \"Expected\": \"n_siblings_spouses\",\n",
       "          \"Found\": \"class\"\n",
       "        },\n",
       "        {\n",
       "          \"Expected Column Position\": 7,\n",
       "          \"Expected\": \"parch\",\n",
       "          \"Found\": \"deck\"\n",
       "        },\n",
       "        {\n",
       "          \"Expected Column Position\": 8,\n",
       "          \"Expected\": \"sex\",\n",
       "          \"Found\": \"embark_town\"\n",
       "        },\n",
       "        {\n",
       "          \"Expected Column Position\": 9,\n",
       "          \"Expected\": \"survived\",\n",
       "          \"Found\": \"alone\"\n",
       "        }\n",
       "      ]\n",
       "    }\n",
       "  },\n",
       "  \"meta\": {},\n",
       "  \"exception_info\": {\n",
       "    \"raised_exception\": false,\n",
       "    \"exception_traceback\": null,\n",
       "    \"exception_message\": null\n",
       "  },\n",
       "  \"success\": false\n",
       "}"
      ]
     },
     "execution_count": 14,
     "metadata": {},
     "output_type": "execute_result"
    }
   ],
   "source": [
    "colunas = ['age','alone','class','deck','embark_town','fare','n_siblings_spouses','parch','sex','survived']\n",
    "validator.expect_table_columns_to_match_ordered_list(column_list=colunas)"
   ]
  },
  {
   "cell_type": "markdown",
   "id": "a1c9913c",
   "metadata": {},
   "source": [
    "2.2 Agora crie uma expectativa para verificar se os valores da coluna \"Survived\" só podem ser 0 ou 1. "
   ]
  },
  {
   "cell_type": "code",
   "execution_count": 10,
   "id": "398f2658",
   "metadata": {},
   "outputs": [
    {
     "data": {
      "application/vnd.jupyter.widget-view+json": {
       "model_id": "492bac43387243aa8e2b3c50b0e499c9",
       "version_major": 2,
       "version_minor": 0
      },
      "text/plain": [
       "Calculating Metrics:   0%|          | 0/4 [00:00<?, ?it/s]"
      ]
     },
     "metadata": {},
     "output_type": "display_data"
    },
    {
     "data": {
      "text/plain": [
       "{\n",
       "  \"result\": {\n",
       "    \"observed_value\": [\n",
       "      0,\n",
       "      1\n",
       "    ],\n",
       "    \"details\": {\n",
       "      \"value_counts\": [\n",
       "        {\n",
       "          \"value\": 0,\n",
       "          \"count\": 384\n",
       "        },\n",
       "        {\n",
       "          \"value\": 1,\n",
       "          \"count\": 243\n",
       "        }\n",
       "      ]\n",
       "    }\n",
       "  },\n",
       "  \"meta\": {},\n",
       "  \"exception_info\": {\n",
       "    \"raised_exception\": false,\n",
       "    \"exception_traceback\": null,\n",
       "    \"exception_message\": null\n",
       "  },\n",
       "  \"success\": true\n",
       "}"
      ]
     },
     "execution_count": 10,
     "metadata": {},
     "output_type": "execute_result"
    }
   ],
   "source": [
    "validator.expect_column_distinct_values_to_be_in_set(column=\"survived\", value_set = [0,1])"
   ]
  },
  {
   "cell_type": "markdown",
   "id": "b54e26a6",
   "metadata": {},
   "source": [
    "2.3 Defina que a coluna \"Pclass\" só pode ter valores de 1 a 3. "
   ]
  },
  {
   "cell_type": "code",
   "execution_count": 16,
   "id": "3897b5f9",
   "metadata": {},
   "outputs": [
    {
     "data": {
      "application/vnd.jupyter.widget-view+json": {
       "model_id": "d6e1e4050acd4fa3b8419ae5ea28988e",
       "version_major": 2,
       "version_minor": 0
      },
      "text/plain": [
       "Calculating Metrics:   0%|          | 0/4 [00:00<?, ?it/s]"
      ]
     },
     "metadata": {},
     "output_type": "display_data"
    },
    {
     "data": {
      "text/plain": [
       "{\n",
       "  \"result\": {\n",
       "    \"observed_value\": [\n",
       "      \"First\",\n",
       "      \"Second\",\n",
       "      \"Third\"\n",
       "    ],\n",
       "    \"details\": {\n",
       "      \"value_counts\": [\n",
       "        {\n",
       "          \"value\": \"First\",\n",
       "          \"count\": 159\n",
       "        },\n",
       "        {\n",
       "          \"value\": \"Second\",\n",
       "          \"count\": 127\n",
       "        },\n",
       "        {\n",
       "          \"value\": \"Third\",\n",
       "          \"count\": 341\n",
       "        }\n",
       "      ]\n",
       "    }\n",
       "  },\n",
       "  \"meta\": {},\n",
       "  \"exception_info\": {\n",
       "    \"raised_exception\": false,\n",
       "    \"exception_traceback\": null,\n",
       "    \"exception_message\": null\n",
       "  },\n",
       "  \"success\": true\n",
       "}"
      ]
     },
     "execution_count": 16,
     "metadata": {},
     "output_type": "execute_result"
    }
   ],
   "source": [
    "validator.expect_column_distinct_values_to_be_in_set(column=\"class\", value_set = [\"First\",\"Second\",\"Third\"])"
   ]
  },
  {
   "cell_type": "markdown",
   "id": "76105e56",
   "metadata": {},
   "source": [
    "2.4 Crie expectativas para verificar se as colunas \"Survived\" e \"Pclass\" existem no dataframe."
   ]
  },
  {
   "cell_type": "code",
   "execution_count": 20,
   "id": "62e21ec3",
   "metadata": {},
   "outputs": [
    {
     "data": {
      "application/vnd.jupyter.widget-view+json": {
       "model_id": "4ce3548b717a4d54be2b0f6768daf72e",
       "version_major": 2,
       "version_minor": 0
      },
      "text/plain": [
       "Calculating Metrics:   0%|          | 0/2 [00:00<?, ?it/s]"
      ]
     },
     "metadata": {},
     "output_type": "display_data"
    },
    {
     "data": {
      "text/plain": [
       "{\n",
       "  \"result\": {},\n",
       "  \"meta\": {},\n",
       "  \"exception_info\": {\n",
       "    \"raised_exception\": false,\n",
       "    \"exception_traceback\": null,\n",
       "    \"exception_message\": null\n",
       "  },\n",
       "  \"success\": true\n",
       "}"
      ]
     },
     "execution_count": 20,
     "metadata": {},
     "output_type": "execute_result"
    }
   ],
   "source": [
    "validator.expect_column_to_exist(column='survived')"
   ]
  },
  {
   "cell_type": "code",
   "execution_count": 21,
   "id": "e9e153ce",
   "metadata": {},
   "outputs": [
    {
     "data": {
      "application/vnd.jupyter.widget-view+json": {
       "model_id": "ee0241623e76409d947ab100dbc691e6",
       "version_major": 2,
       "version_minor": 0
      },
      "text/plain": [
       "Calculating Metrics:   0%|          | 0/2 [00:00<?, ?it/s]"
      ]
     },
     "metadata": {},
     "output_type": "display_data"
    },
    {
     "data": {
      "text/plain": [
       "{\n",
       "  \"result\": {},\n",
       "  \"meta\": {},\n",
       "  \"exception_info\": {\n",
       "    \"raised_exception\": false,\n",
       "    \"exception_traceback\": null,\n",
       "    \"exception_message\": null\n",
       "  },\n",
       "  \"success\": false\n",
       "}"
      ]
     },
     "execution_count": 21,
     "metadata": {},
     "output_type": "execute_result"
    }
   ],
   "source": [
    "validator.expect_column_to_exist(column='pclass')"
   ]
  },
  {
   "cell_type": "markdown",
   "id": "ae22121f",
   "metadata": {},
   "source": [
    "2.5 Verifique se os valores das colunas \"Age\" e \"Fare\" não são nulos e se estão dentro de um intervalo razoável (0 a 100 para \"Age\" w 0 a 100 para \"Fare\"."
   ]
  },
  {
   "cell_type": "code",
   "execution_count": 23,
   "id": "8ecd340a",
   "metadata": {},
   "outputs": [
    {
     "data": {
      "application/vnd.jupyter.widget-view+json": {
       "model_id": "88200d31c8644a80969a037564b18b36",
       "version_major": 2,
       "version_minor": 0
      },
      "text/plain": [
       "Calculating Metrics:   0%|          | 0/6 [00:00<?, ?it/s]"
      ]
     },
     "metadata": {},
     "output_type": "display_data"
    },
    {
     "data": {
      "application/vnd.jupyter.widget-view+json": {
       "model_id": "aedff27c3d854c27856f1cce65434106",
       "version_major": 2,
       "version_minor": 0
      },
      "text/plain": [
       "Calculating Metrics:   0%|          | 0/8 [00:00<?, ?it/s]"
      ]
     },
     "metadata": {},
     "output_type": "display_data"
    },
    {
     "data": {
      "text/plain": [
       "{\n",
       "  \"result\": {\n",
       "    \"element_count\": 627,\n",
       "    \"unexpected_count\": 0,\n",
       "    \"unexpected_percent\": 0.0,\n",
       "    \"partial_unexpected_list\": [],\n",
       "    \"missing_count\": 0,\n",
       "    \"missing_percent\": 0.0,\n",
       "    \"unexpected_percent_total\": 0.0,\n",
       "    \"unexpected_percent_nonmissing\": 0.0\n",
       "  },\n",
       "  \"meta\": {},\n",
       "  \"exception_info\": {\n",
       "    \"raised_exception\": false,\n",
       "    \"exception_traceback\": null,\n",
       "    \"exception_message\": null\n",
       "  },\n",
       "  \"success\": true\n",
       "}"
      ]
     },
     "execution_count": 23,
     "metadata": {},
     "output_type": "execute_result"
    }
   ],
   "source": [
    "validator.expect_column_values_to_not_be_null(column='age')\n",
    "validator.expect_column_values_to_be_between(column='age', min_value = 0, max_value=100)"
   ]
  },
  {
   "cell_type": "code",
   "execution_count": 24,
   "id": "49e9416c",
   "metadata": {},
   "outputs": [
    {
     "data": {
      "application/vnd.jupyter.widget-view+json": {
       "model_id": "3b8012d7c4364cff8b193cc591ab9a08",
       "version_major": 2,
       "version_minor": 0
      },
      "text/plain": [
       "Calculating Metrics:   0%|          | 0/6 [00:00<?, ?it/s]"
      ]
     },
     "metadata": {},
     "output_type": "display_data"
    },
    {
     "data": {
      "application/vnd.jupyter.widget-view+json": {
       "model_id": "48e2cad593884eb0926fbec26875b960",
       "version_major": 2,
       "version_minor": 0
      },
      "text/plain": [
       "Calculating Metrics:   0%|          | 0/8 [00:00<?, ?it/s]"
      ]
     },
     "metadata": {},
     "output_type": "display_data"
    },
    {
     "data": {
      "text/plain": [
       "{\n",
       "  \"result\": {\n",
       "    \"element_count\": 627,\n",
       "    \"unexpected_count\": 43,\n",
       "    \"unexpected_percent\": 6.8580542264752795,\n",
       "    \"partial_unexpected_list\": [\n",
       "      263.0,\n",
       "      146.5208,\n",
       "      263.0,\n",
       "      247.5208,\n",
       "      146.5208,\n",
       "      113.275,\n",
       "      512.3292,\n",
       "      153.4625,\n",
       "      135.6333,\n",
       "      247.5208,\n",
       "      110.8833,\n",
       "      108.9,\n",
       "      262.375,\n",
       "      164.8667,\n",
       "      134.5,\n",
       "      135.6333,\n",
       "      153.4625,\n",
       "      133.65,\n",
       "      211.5,\n",
       "      227.525\n",
       "    ],\n",
       "    \"missing_count\": 0,\n",
       "    \"missing_percent\": 0.0,\n",
       "    \"unexpected_percent_total\": 6.8580542264752795,\n",
       "    \"unexpected_percent_nonmissing\": 6.8580542264752795\n",
       "  },\n",
       "  \"meta\": {},\n",
       "  \"exception_info\": {\n",
       "    \"raised_exception\": false,\n",
       "    \"exception_traceback\": null,\n",
       "    \"exception_message\": null\n",
       "  },\n",
       "  \"success\": false\n",
       "}"
      ]
     },
     "execution_count": 24,
     "metadata": {},
     "output_type": "execute_result"
    }
   ],
   "source": [
    "validator.expect_column_values_to_not_be_null(column='fare')\n",
    "validator.expect_column_values_to_be_between(column='fare', min_value = 0, max_value=100)"
   ]
  },
  {
   "cell_type": "markdown",
   "id": "dbe9d33b",
   "metadata": {},
   "source": [
    "2.6 Define que a coluna \"Sex\" só pode ter os valores \"male\" ou \"female\"."
   ]
  },
  {
   "cell_type": "code",
   "execution_count": 25,
   "id": "d79cae26",
   "metadata": {},
   "outputs": [
    {
     "data": {
      "application/vnd.jupyter.widget-view+json": {
       "model_id": "38be3ff4f4474030a4f8754002933718",
       "version_major": 2,
       "version_minor": 0
      },
      "text/plain": [
       "Calculating Metrics:   0%|          | 0/4 [00:00<?, ?it/s]"
      ]
     },
     "metadata": {},
     "output_type": "display_data"
    },
    {
     "data": {
      "text/plain": [
       "{\n",
       "  \"result\": {\n",
       "    \"observed_value\": [\n",
       "      \"female\",\n",
       "      \"male\"\n",
       "    ],\n",
       "    \"details\": {\n",
       "      \"value_counts\": [\n",
       "        {\n",
       "          \"value\": \"female\",\n",
       "          \"count\": 217\n",
       "        },\n",
       "        {\n",
       "          \"value\": \"male\",\n",
       "          \"count\": 410\n",
       "        }\n",
       "      ]\n",
       "    }\n",
       "  },\n",
       "  \"meta\": {},\n",
       "  \"exception_info\": {\n",
       "    \"raised_exception\": false,\n",
       "    \"exception_traceback\": null,\n",
       "    \"exception_message\": null\n",
       "  },\n",
       "  \"success\": true\n",
       "}"
      ]
     },
     "execution_count": 25,
     "metadata": {},
     "output_type": "execute_result"
    }
   ],
   "source": [
    "validator.expect_column_distinct_values_to_be_in_set(column=\"sex\", value_set = [\"male\",\"female\"])"
   ]
  },
  {
   "cell_type": "markdown",
   "id": "35a0f4be",
   "metadata": {},
   "source": [
    "### 3. Executando as Expectativas"
   ]
  },
  {
   "cell_type": "markdown",
   "id": "6a430083",
   "metadata": {},
   "source": [
    "3.1 Defina um Checkpoint e execute-o para receber os resultados do validator."
   ]
  },
  {
   "cell_type": "code",
   "execution_count": 26,
   "id": "2f49380a",
   "metadata": {},
   "outputs": [],
   "source": [
    "checkpoint = gx.checkpoint.SimpleCheckpoint(\n",
    "    name = \"my_quickstart_checkpoint\",\n",
    "    data_context = context,\n",
    "    validator = validator\n",
    ")"
   ]
  },
  {
   "cell_type": "code",
   "execution_count": 27,
   "id": "f1e11e26",
   "metadata": {},
   "outputs": [
    {
     "data": {
      "application/vnd.jupyter.widget-view+json": {
       "model_id": "f50029da5163480ab9305fe67fec5abf",
       "version_major": 2,
       "version_minor": 0
      },
      "text/plain": [
       "Calculating Metrics:   0%|          | 0/26 [00:00<?, ?it/s]"
      ]
     },
     "metadata": {},
     "output_type": "display_data"
    }
   ],
   "source": [
    "checkpoint_result = checkpoint.run()"
   ]
  },
  {
   "cell_type": "code",
   "execution_count": 28,
   "id": "cf5d7289",
   "metadata": {},
   "outputs": [
    {
     "data": {
      "text/plain": [
       "{\n",
       "  \"run_id\": {\n",
       "    \"run_name\": null,\n",
       "    \"run_time\": \"2023-04-19T11:04:51.176910-03:00\"\n",
       "  },\n",
       "  \"run_results\": {\n",
       "    \"ValidationResultIdentifier::default/__none__/20230419T140451.176910Z/default_pandas_datasource-#ephemeral_pandas_asset\": {\n",
       "      \"validation_result\": {\n",
       "        \"evaluation_parameters\": {},\n",
       "        \"meta\": {\n",
       "          \"great_expectations_version\": \"0.16.7\",\n",
       "          \"expectation_suite_name\": \"default\",\n",
       "          \"run_id\": {\n",
       "            \"run_name\": null,\n",
       "            \"run_time\": \"2023-04-19T11:04:51.176910-03:00\"\n",
       "          },\n",
       "          \"batch_spec\": {\n",
       "            \"reader_method\": \"read_csv\",\n",
       "            \"reader_options\": {\n",
       "              \"filepath_or_buffer\": \"train.csv\"\n",
       "            }\n",
       "          },\n",
       "          \"batch_markers\": {\n",
       "            \"ge_load_time\": \"20230419T131309.376843Z\",\n",
       "            \"pandas_data_fingerprint\": \"05709dad807d24c620541df64cce309d\"\n",
       "          },\n",
       "          \"active_batch_definition\": {\n",
       "            \"datasource_name\": \"default_pandas_datasource\",\n",
       "            \"data_connector_name\": \"fluent\",\n",
       "            \"data_asset_name\": \"#ephemeral_pandas_asset\",\n",
       "            \"batch_identifiers\": {}\n",
       "          },\n",
       "          \"validation_time\": \"20230419T140451.181907Z\",\n",
       "          \"checkpoint_name\": \"my_quickstart_checkpoint\",\n",
       "          \"validation_id\": null,\n",
       "          \"checkpoint_id\": null\n",
       "        },\n",
       "        \"success\": false,\n",
       "        \"results\": [\n",
       "          {\n",
       "            \"result\": {\n",
       "              \"observed_value\": [\n",
       "                0,\n",
       "                1\n",
       "              ],\n",
       "              \"details\": {\n",
       "                \"value_counts\": [\n",
       "                  {\n",
       "                    \"value\": 0,\n",
       "                    \"count\": 384\n",
       "                  },\n",
       "                  {\n",
       "                    \"value\": 1,\n",
       "                    \"count\": 243\n",
       "                  }\n",
       "                ]\n",
       "              }\n",
       "            },\n",
       "            \"meta\": {},\n",
       "            \"exception_info\": {\n",
       "              \"raised_exception\": false,\n",
       "              \"exception_traceback\": null,\n",
       "              \"exception_message\": null\n",
       "            },\n",
       "            \"success\": false,\n",
       "            \"expectation_config\": {\n",
       "              \"kwargs\": {\n",
       "                \"column\": \"survived\",\n",
       "                \"value_set\": [\n",
       "                  1,\n",
       "                  2,\n",
       "                  3\n",
       "                ],\n",
       "                \"batch_id\": \"default_pandas_datasource-#ephemeral_pandas_asset\"\n",
       "              },\n",
       "              \"expectation_type\": \"expect_column_distinct_values_to_be_in_set\",\n",
       "              \"meta\": {}\n",
       "            }\n",
       "          },\n",
       "          {\n",
       "            \"result\": {},\n",
       "            \"meta\": {},\n",
       "            \"exception_info\": {\n",
       "              \"raised_exception\": false,\n",
       "              \"exception_traceback\": null,\n",
       "              \"exception_message\": null\n",
       "            },\n",
       "            \"success\": true,\n",
       "            \"expectation_config\": {\n",
       "              \"kwargs\": {\n",
       "                \"column\": \"survived\",\n",
       "                \"batch_id\": \"default_pandas_datasource-#ephemeral_pandas_asset\"\n",
       "              },\n",
       "              \"expectation_type\": \"expect_column_to_exist\",\n",
       "              \"meta\": {}\n",
       "            }\n",
       "          },\n",
       "          {\n",
       "            \"result\": {\n",
       "              \"observed_value\": [\n",
       "                \"survived\",\n",
       "                \"sex\",\n",
       "                \"age\",\n",
       "                \"n_siblings_spouses\",\n",
       "                \"parch\",\n",
       "                \"fare\",\n",
       "                \"class\",\n",
       "                \"deck\",\n",
       "                \"embark_town\",\n",
       "                \"alone\"\n",
       "              ],\n",
       "              \"details\": {\n",
       "                \"mismatched\": [\n",
       "                  {\n",
       "                    \"Expected Column Position\": 0,\n",
       "                    \"Expected\": \"age\",\n",
       "                    \"Found\": \"survived\"\n",
       "                  },\n",
       "                  {\n",
       "                    \"Expected Column Position\": 1,\n",
       "                    \"Expected\": \"alone\",\n",
       "                    \"Found\": \"sex\"\n",
       "                  },\n",
       "                  {\n",
       "                    \"Expected Column Position\": 2,\n",
       "                    \"Expected\": \"class\",\n",
       "                    \"Found\": \"age\"\n",
       "                  },\n",
       "                  {\n",
       "                    \"Expected Column Position\": 3,\n",
       "                    \"Expected\": \"deck\",\n",
       "                    \"Found\": \"n_siblings_spouses\"\n",
       "                  },\n",
       "                  {\n",
       "                    \"Expected Column Position\": 4,\n",
       "                    \"Expected\": \"embark_town\",\n",
       "                    \"Found\": \"parch\"\n",
       "                  },\n",
       "                  {\n",
       "                    \"Expected Column Position\": 6,\n",
       "                    \"Expected\": \"n_siblings_spouses\",\n",
       "                    \"Found\": \"class\"\n",
       "                  },\n",
       "                  {\n",
       "                    \"Expected Column Position\": 7,\n",
       "                    \"Expected\": \"parch\",\n",
       "                    \"Found\": \"deck\"\n",
       "                  },\n",
       "                  {\n",
       "                    \"Expected Column Position\": 8,\n",
       "                    \"Expected\": \"sex\",\n",
       "                    \"Found\": \"embark_town\"\n",
       "                  },\n",
       "                  {\n",
       "                    \"Expected Column Position\": 9,\n",
       "                    \"Expected\": \"survived\",\n",
       "                    \"Found\": \"alone\"\n",
       "                  }\n",
       "                ]\n",
       "              }\n",
       "            },\n",
       "            \"meta\": {},\n",
       "            \"exception_info\": {\n",
       "              \"raised_exception\": false,\n",
       "              \"exception_traceback\": null,\n",
       "              \"exception_message\": null\n",
       "            },\n",
       "            \"success\": false,\n",
       "            \"expectation_config\": {\n",
       "              \"kwargs\": {\n",
       "                \"column_list\": [\n",
       "                  \"age\",\n",
       "                  \"alone\",\n",
       "                  \"class\",\n",
       "                  \"deck\",\n",
       "                  \"embark_town\",\n",
       "                  \"fare\",\n",
       "                  \"n_siblings_spouses\",\n",
       "                  \"parch\",\n",
       "                  \"sex\",\n",
       "                  \"survived\"\n",
       "                ],\n",
       "                \"batch_id\": \"default_pandas_datasource-#ephemeral_pandas_asset\"\n",
       "              },\n",
       "              \"expectation_type\": \"expect_table_columns_to_match_ordered_list\",\n",
       "              \"meta\": {}\n",
       "            }\n",
       "          },\n",
       "          {\n",
       "            \"result\": {\n",
       "              \"observed_value\": [\n",
       "                \"First\",\n",
       "                \"Second\",\n",
       "                \"Third\"\n",
       "              ],\n",
       "              \"details\": {\n",
       "                \"value_counts\": [\n",
       "                  {\n",
       "                    \"value\": \"First\",\n",
       "                    \"count\": 159\n",
       "                  },\n",
       "                  {\n",
       "                    \"value\": \"Second\",\n",
       "                    \"count\": 127\n",
       "                  },\n",
       "                  {\n",
       "                    \"value\": \"Third\",\n",
       "                    \"count\": 341\n",
       "                  }\n",
       "                ]\n",
       "              }\n",
       "            },\n",
       "            \"meta\": {},\n",
       "            \"exception_info\": {\n",
       "              \"raised_exception\": false,\n",
       "              \"exception_traceback\": null,\n",
       "              \"exception_message\": null\n",
       "            },\n",
       "            \"success\": true,\n",
       "            \"expectation_config\": {\n",
       "              \"kwargs\": {\n",
       "                \"column\": \"class\",\n",
       "                \"value_set\": [\n",
       "                  \"First\",\n",
       "                  \"Second\",\n",
       "                  \"Third\"\n",
       "                ],\n",
       "                \"batch_id\": \"default_pandas_datasource-#ephemeral_pandas_asset\"\n",
       "              },\n",
       "              \"expectation_type\": \"expect_column_distinct_values_to_be_in_set\",\n",
       "              \"meta\": {}\n",
       "            }\n",
       "          },\n",
       "          {\n",
       "            \"result\": {},\n",
       "            \"meta\": {},\n",
       "            \"exception_info\": {\n",
       "              \"raised_exception\": false,\n",
       "              \"exception_traceback\": null,\n",
       "              \"exception_message\": null\n",
       "            },\n",
       "            \"success\": false,\n",
       "            \"expectation_config\": {\n",
       "              \"kwargs\": {\n",
       "                \"column\": \"pclass\",\n",
       "                \"batch_id\": \"default_pandas_datasource-#ephemeral_pandas_asset\"\n",
       "              },\n",
       "              \"expectation_type\": \"expect_column_to_exist\",\n",
       "              \"meta\": {}\n",
       "            }\n",
       "          },\n",
       "          {\n",
       "            \"result\": {\n",
       "              \"element_count\": 627,\n",
       "              \"unexpected_count\": 0,\n",
       "              \"unexpected_percent\": 0.0,\n",
       "              \"partial_unexpected_list\": [],\n",
       "              \"partial_unexpected_index_list\": [],\n",
       "              \"partial_unexpected_counts\": []\n",
       "            },\n",
       "            \"meta\": {},\n",
       "            \"exception_info\": {\n",
       "              \"raised_exception\": false,\n",
       "              \"exception_traceback\": null,\n",
       "              \"exception_message\": null\n",
       "            },\n",
       "            \"success\": true,\n",
       "            \"expectation_config\": {\n",
       "              \"kwargs\": {\n",
       "                \"column\": \"age\",\n",
       "                \"batch_id\": \"default_pandas_datasource-#ephemeral_pandas_asset\"\n",
       "              },\n",
       "              \"expectation_type\": \"expect_column_values_to_not_be_null\",\n",
       "              \"meta\": {}\n",
       "            }\n",
       "          },\n",
       "          {\n",
       "            \"result\": {\n",
       "              \"element_count\": 627,\n",
       "              \"unexpected_count\": 0,\n",
       "              \"unexpected_percent\": 0.0,\n",
       "              \"partial_unexpected_list\": [],\n",
       "              \"missing_count\": 0,\n",
       "              \"missing_percent\": 0.0,\n",
       "              \"unexpected_percent_total\": 0.0,\n",
       "              \"unexpected_percent_nonmissing\": 0.0,\n",
       "              \"partial_unexpected_index_list\": [],\n",
       "              \"partial_unexpected_counts\": []\n",
       "            },\n",
       "            \"meta\": {},\n",
       "            \"exception_info\": {\n",
       "              \"raised_exception\": false,\n",
       "              \"exception_traceback\": null,\n",
       "              \"exception_message\": null\n",
       "            },\n",
       "            \"success\": true,\n",
       "            \"expectation_config\": {\n",
       "              \"kwargs\": {\n",
       "                \"column\": \"age\",\n",
       "                \"min_value\": 0,\n",
       "                \"max_value\": 100,\n",
       "                \"batch_id\": \"default_pandas_datasource-#ephemeral_pandas_asset\"\n",
       "              },\n",
       "              \"expectation_type\": \"expect_column_values_to_be_between\",\n",
       "              \"meta\": {}\n",
       "            }\n",
       "          },\n",
       "          {\n",
       "            \"result\": {\n",
       "              \"element_count\": 627,\n",
       "              \"unexpected_count\": 0,\n",
       "              \"unexpected_percent\": 0.0,\n",
       "              \"partial_unexpected_list\": [],\n",
       "              \"partial_unexpected_index_list\": [],\n",
       "              \"partial_unexpected_counts\": []\n",
       "            },\n",
       "            \"meta\": {},\n",
       "            \"exception_info\": {\n",
       "              \"raised_exception\": false,\n",
       "              \"exception_traceback\": null,\n",
       "              \"exception_message\": null\n",
       "            },\n",
       "            \"success\": true,\n",
       "            \"expectation_config\": {\n",
       "              \"kwargs\": {\n",
       "                \"column\": \"fare\",\n",
       "                \"batch_id\": \"default_pandas_datasource-#ephemeral_pandas_asset\"\n",
       "              },\n",
       "              \"expectation_type\": \"expect_column_values_to_not_be_null\",\n",
       "              \"meta\": {}\n",
       "            }\n",
       "          },\n",
       "          {\n",
       "            \"result\": {\n",
       "              \"element_count\": 627,\n",
       "              \"unexpected_count\": 43,\n",
       "              \"unexpected_percent\": 6.8580542264752795,\n",
       "              \"partial_unexpected_list\": [\n",
       "                263.0,\n",
       "                146.5208,\n",
       "                263.0,\n",
       "                247.5208,\n",
       "                146.5208,\n",
       "                113.275,\n",
       "                512.3292,\n",
       "                153.4625,\n",
       "                135.6333,\n",
       "                247.5208,\n",
       "                110.8833,\n",
       "                108.9,\n",
       "                262.375,\n",
       "                164.8667,\n",
       "                134.5,\n",
       "                135.6333,\n",
       "                153.4625,\n",
       "                133.65,\n",
       "                211.5,\n",
       "                227.525\n",
       "              ],\n",
       "              \"missing_count\": 0,\n",
       "              \"missing_percent\": 0.0,\n",
       "              \"unexpected_percent_total\": 6.8580542264752795,\n",
       "              \"unexpected_percent_nonmissing\": 6.8580542264752795,\n",
       "              \"partial_unexpected_index_list\": [\n",
       "                20,\n",
       "                24,\n",
       "                69,\n",
       "                93,\n",
       "                143,\n",
       "                158,\n",
       "                187,\n",
       "                196,\n",
       "                197,\n",
       "                215,\n",
       "                220,\n",
       "                221,\n",
       "                225,\n",
       "                230,\n",
       "                231,\n",
       "                236,\n",
       "                240,\n",
       "                241,\n",
       "                272,\n",
       "                274\n",
       "              ],\n",
       "              \"partial_unexpected_counts\": [\n",
       "                {\n",
       "                  \"value\": 135.6333,\n",
       "                  \"count\": 2\n",
       "                },\n",
       "                {\n",
       "                  \"value\": 146.5208,\n",
       "                  \"count\": 2\n",
       "                },\n",
       "                {\n",
       "                  \"value\": 153.4625,\n",
       "                  \"count\": 2\n",
       "                },\n",
       "                {\n",
       "                  \"value\": 247.5208,\n",
       "                  \"count\": 2\n",
       "                },\n",
       "                {\n",
       "                  \"value\": 263.0,\n",
       "                  \"count\": 2\n",
       "                },\n",
       "                {\n",
       "                  \"value\": 108.9,\n",
       "                  \"count\": 1\n",
       "                },\n",
       "                {\n",
       "                  \"value\": 110.8833,\n",
       "                  \"count\": 1\n",
       "                },\n",
       "                {\n",
       "                  \"value\": 113.275,\n",
       "                  \"count\": 1\n",
       "                },\n",
       "                {\n",
       "                  \"value\": 133.65,\n",
       "                  \"count\": 1\n",
       "                },\n",
       "                {\n",
       "                  \"value\": 134.5,\n",
       "                  \"count\": 1\n",
       "                },\n",
       "                {\n",
       "                  \"value\": 164.8667,\n",
       "                  \"count\": 1\n",
       "                },\n",
       "                {\n",
       "                  \"value\": 211.5,\n",
       "                  \"count\": 1\n",
       "                },\n",
       "                {\n",
       "                  \"value\": 227.525,\n",
       "                  \"count\": 1\n",
       "                },\n",
       "                {\n",
       "                  \"value\": 262.375,\n",
       "                  \"count\": 1\n",
       "                },\n",
       "                {\n",
       "                  \"value\": 512.3292,\n",
       "                  \"count\": 1\n",
       "                }\n",
       "              ]\n",
       "            },\n",
       "            \"meta\": {},\n",
       "            \"exception_info\": {\n",
       "              \"raised_exception\": false,\n",
       "              \"exception_traceback\": null,\n",
       "              \"exception_message\": null\n",
       "            },\n",
       "            \"success\": false,\n",
       "            \"expectation_config\": {\n",
       "              \"kwargs\": {\n",
       "                \"column\": \"fare\",\n",
       "                \"min_value\": 0,\n",
       "                \"max_value\": 100,\n",
       "                \"batch_id\": \"default_pandas_datasource-#ephemeral_pandas_asset\"\n",
       "              },\n",
       "              \"expectation_type\": \"expect_column_values_to_be_between\",\n",
       "              \"meta\": {}\n",
       "            }\n",
       "          },\n",
       "          {\n",
       "            \"result\": {\n",
       "              \"observed_value\": [\n",
       "                \"female\",\n",
       "                \"male\"\n",
       "              ],\n",
       "              \"details\": {\n",
       "                \"value_counts\": [\n",
       "                  {\n",
       "                    \"value\": \"female\",\n",
       "                    \"count\": 217\n",
       "                  },\n",
       "                  {\n",
       "                    \"value\": \"male\",\n",
       "                    \"count\": 410\n",
       "                  }\n",
       "                ]\n",
       "              }\n",
       "            },\n",
       "            \"meta\": {},\n",
       "            \"exception_info\": {\n",
       "              \"raised_exception\": false,\n",
       "              \"exception_traceback\": null,\n",
       "              \"exception_message\": null\n",
       "            },\n",
       "            \"success\": true,\n",
       "            \"expectation_config\": {\n",
       "              \"kwargs\": {\n",
       "                \"column\": \"sex\",\n",
       "                \"value_set\": [\n",
       "                  \"male\",\n",
       "                  \"female\"\n",
       "                ],\n",
       "                \"batch_id\": \"default_pandas_datasource-#ephemeral_pandas_asset\"\n",
       "              },\n",
       "              \"expectation_type\": \"expect_column_distinct_values_to_be_in_set\",\n",
       "              \"meta\": {}\n",
       "            }\n",
       "          }\n",
       "        ],\n",
       "        \"statistics\": {\n",
       "          \"evaluated_expectations\": 10,\n",
       "          \"successful_expectations\": 6,\n",
       "          \"unsuccessful_expectations\": 4,\n",
       "          \"success_percent\": 60.0\n",
       "        }\n",
       "      },\n",
       "      \"actions_results\": {\n",
       "        \"store_validation_result\": {\n",
       "          \"class\": \"StoreValidationResultAction\"\n",
       "        },\n",
       "        \"store_evaluation_params\": {\n",
       "          \"class\": \"StoreEvaluationParametersAction\"\n",
       "        },\n",
       "        \"update_data_docs\": {\n",
       "          \"local_site\": \"file://C:\\\\Users\\\\Jonatas\\\\AppData\\\\Local\\\\Temp\\\\tmpetjpm8mh\\\\validations%5Cdefault%5C__none__%5C20230419T140451.176910Z%5Cdefault_pandas_datasource-%23ephemeral_pandas_asset.html\",\n",
       "          \"class\": \"UpdateDataDocsAction\"\n",
       "        }\n",
       "      }\n",
       "    }\n",
       "  },\n",
       "  \"checkpoint_config\": {\n",
       "    \"expectation_suite_ge_cloud_id\": null,\n",
       "    \"class_name\": \"Checkpoint\",\n",
       "    \"profilers\": [],\n",
       "    \"default_validation_id\": null,\n",
       "    \"slack_webhook\": null,\n",
       "    \"config_version\": 1.0,\n",
       "    \"name\": \"my_quickstart_checkpoint\",\n",
       "    \"batch_request\": {},\n",
       "    \"template_name\": null,\n",
       "    \"ge_cloud_id\": null,\n",
       "    \"expectation_suite_name\": \"default\",\n",
       "    \"runtime_configuration\": {},\n",
       "    \"evaluation_parameters\": {},\n",
       "    \"notify_on\": null,\n",
       "    \"notify_with\": null,\n",
       "    \"action_list\": [\n",
       "      {\n",
       "        \"name\": \"store_validation_result\",\n",
       "        \"action\": {\n",
       "          \"class_name\": \"StoreValidationResultAction\"\n",
       "        }\n",
       "      },\n",
       "      {\n",
       "        \"name\": \"store_evaluation_params\",\n",
       "        \"action\": {\n",
       "          \"class_name\": \"StoreEvaluationParametersAction\"\n",
       "        }\n",
       "      },\n",
       "      {\n",
       "        \"name\": \"update_data_docs\",\n",
       "        \"action\": {\n",
       "          \"class_name\": \"UpdateDataDocsAction\",\n",
       "          \"site_names\": []\n",
       "        }\n",
       "      }\n",
       "    ],\n",
       "    \"site_names\": null,\n",
       "    \"run_name_template\": null,\n",
       "    \"validations\": [],\n",
       "    \"module_name\": \"great_expectations.checkpoint\"\n",
       "  },\n",
       "  \"success\": false\n",
       "}"
      ]
     },
     "execution_count": 28,
     "metadata": {},
     "output_type": "execute_result"
    }
   ],
   "source": [
    "checkpoint_result"
   ]
  },
  {
   "cell_type": "code",
   "execution_count": null,
   "id": "80b48f55",
   "metadata": {},
   "outputs": [],
   "source": []
  }
 ],
 "metadata": {
  "kernelspec": {
   "display_name": "Python 3",
   "language": "python",
   "name": "python3"
  },
  "language_info": {
   "codemirror_mode": {
    "name": "ipython",
    "version": 3
   },
   "file_extension": ".py",
   "mimetype": "text/x-python",
   "name": "python",
   "nbconvert_exporter": "python",
   "pygments_lexer": "ipython3",
   "version": "3.10.10"
  }
 },
 "nbformat": 4,
 "nbformat_minor": 5
}
